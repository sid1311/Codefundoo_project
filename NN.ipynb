{
  "nbformat": 4,
  "nbformat_minor": 0,
  "metadata": {
    "colab": {
      "name": "NN.ipynb",
      "version": "0.3.2",
      "provenance": [],
      "collapsed_sections": [],
      "toc_visible": true,
      "include_colab_link": true
    },
    "kernelspec": {
      "name": "python3",
      "display_name": "Python 3"
    }
  },
  "cells": [
    {
      "cell_type": "markdown",
      "metadata": {
        "id": "view-in-github",
        "colab_type": "text"
      },
      "source": [
        "[View in Colaboratory](https://colab.research.google.com/github/sid1311/Codefundoo_project/blob/master/NN.ipynb)"
      ]
    },
    {
      "metadata": {
        "id": "SyUZi1CWg5ob",
        "colab_type": "code",
        "colab": {
          "base_uri": "https://localhost:8080/",
          "height": 122
        },
        "outputId": "840744f0-8d1c-453d-8873-a721c12ad036"
      },
      "cell_type": "code",
      "source": [
        "from google.colab import drive\n",
        "\n",
        "drive.mount('/content/drive')"
      ],
      "execution_count": 2,
      "outputs": [
        {
          "output_type": "stream",
          "text": [
            "Go to this URL in a browser: https://accounts.google.com/o/oauth2/auth?client_id=947318989803-6bn6qk8qdgf4n4g3pfee6491hc0brc4i.apps.googleusercontent.com&redirect_uri=urn%3Aietf%3Awg%3Aoauth%3A2.0%3Aoob&scope=email%20https%3A%2F%2Fwww.googleapis.com%2Fauth%2Fdocs.test%20https%3A%2F%2Fwww.googleapis.com%2Fauth%2Fdrive%20https%3A%2F%2Fwww.googleapis.com%2Fauth%2Fdrive.photos.readonly%20https%3A%2F%2Fwww.googleapis.com%2Fauth%2Fpeopleapi.readonly&response_type=code\n",
            "\n",
            "Enter your authorization code:\n",
            "··········\n",
            "Mounted at /content/drive\n"
          ],
          "name": "stdout"
        }
      ]
    },
    {
      "metadata": {
        "id": "YrhPvT6_b4Wb",
        "colab_type": "code",
        "colab": {
          "base_uri": "https://localhost:8080/",
          "height": 1747
        },
        "outputId": "c2f11b6b-89d9-4845-8cc5-f6f09468b6b6"
      },
      "cell_type": "code",
      "source": [
        "import tensorflow as tf\n",
        "import pandas as pd\n",
        "from numpy import array\n",
        "\n",
        "data = pd.read_csv(\"drive/My Drive/Colab Notebooks/final_learning_dataset.csv\")\n",
        "print(data.isnull().any())\n",
        "data = data.dropna()\n",
        "Output = data['Output'].copy()\n",
        "data = data.drop(['Lat', 'Long', 'Output'],axis=1)\n",
        "\n",
        "print(Output.isnull().any())\n",
        "\n",
        "\n",
        "#TODO: READ ACTUAL CSV FILE\n",
        "\n",
        "# Currently = MAGNITUDE, DISTANCE, DEPTH - FUTURE -->SENTIMENT\n",
        "#TODO: SET ACTUAL TRAIN/TEST/DEV SET SIZES #EXPECTED FOR SMALL DATASET 60/20/20\n",
        "\n",
        "X = data.values\n",
        "Y = Output.values\n",
        "\n",
        "\n",
        "#Normalzing Data\n",
        "from sklearn.preprocessing import MinMaxScaler\n",
        "scaler = MinMaxScaler().fit(X)\n",
        "\n",
        "X_norm = scaler.transform(X)\n",
        "\n",
        "X_train = X_norm[:95000]\n",
        "X_dev = X_norm[95001:106031]\n",
        "X_test = X_norm[106032:]\n",
        "\n",
        "Y_train = Y[:95000]\n",
        "Y_dev = Y[95001:106031]\n",
        "Y_test = Y[106032:]\n",
        "\n",
        "\n",
        "#ASSUMING OUR CLASSIFIER RETURNS A VALUE FROM 0 to 2 -> THREE DIFFERENT CLASSIFICATIONS\n",
        "\n",
        "\n",
        "\n",
        "\n",
        "#DEFINING DIFFERENT MODELS\n",
        "from keras import regularizers\n",
        "from keras.layers.advanced_activations import LeakyReLU\n",
        "\n",
        "one_model = tf.keras.Sequential([\n",
        "    tf.keras.layers.Dense(3,activation=tf.nn.softmax)\n",
        "])\n",
        "\n",
        "one_model.compile(optimizer = tf.train.AdamOptimizer(), metrics=['accuracy'], loss = 'categorical_crossentropy')\n",
        "one_model.fit(X_train,Y_train,batch_size=32, epochs = 3)\n",
        "score0=one_model.evaluate(X_dev, Y_dev, verbose=0)\n",
        "print(score0[1]*100)\n",
        " \n",
        "\n",
        "full_deep_model = tf.keras.Sequential([\n",
        "    tf.keras.layers.Dense(3, activation= LeakyReLU(alpha=0.1), kernel_regularizer = regularizers.l2(0.01)),\n",
        "    tf.keras.layers.Dense(128, activation= LeakyReLU(alpha=0.1), kernel_regularizer = regularizers.l2(0.01)),\n",
        "    tf.keras.layers.Dense(128, activation= LeakyReLU(alpha=0.1), kernel_regularizer = regularizers.l2(0.01)),\n",
        "    tf.keras.layers.Dense(128, activation= LeakyReLU(alpha=0.1), kernel_regularizer = regularizers.l2(0.01)),\n",
        "    tf.keras.layers.Dense(128, activation= LeakyReLU(alpha=0.1), kernel_regularizer = regularizers.l2(0.01)),\n",
        "    tf.keras.layers.Dense(128, activation= LeakyReLU(alpha=0.1), kernel_regularizer = regularizers.l2(0.01)),\n",
        "    tf.keras.layers.Dense(128, activation= LeakyReLU(alpha=0.1), kernel_regularizer = regularizers.l2(0.01)),\n",
        "    tf.keras.layers.Dense(128, activation= LeakyReLU(alpha=0.1), kernel_regularizer = regularizers.l2(0.01)),\n",
        "    tf.keras.layers.Dense(128, activation= LeakyReLU(alpha=0.1), kernel_regularizer = regularizers.l2(0.01)),\n",
        "    tf.keras.layers.Dense(128, activation= LeakyReLU(alpha=0.1), kernel_regularizer = regularizers.l2(0.01)),\n",
        "    tf.keras.layers.Dense(3, activation=tf.nn.softmax,kernel_regularizer =  regularizers.l2(0.01))  # since no of classifications = 3\n",
        "\n",
        "])\n",
        "\n",
        "simple_model_shallow = tf.keras.Sequential([\n",
        "    tf.keras.layers.Dense(3, activation=LeakyReLU(alpha=0.1), kernel_regularizer = regularizers.l2(0.01)),\n",
        "    tf.keras.layers.Dense(3, activation=LeakyReLU(alpha=0.1), kernel_regularizer = regularizers.l2(0.01)),\n",
        "tf.keras.layers.Dense(3, activation=LeakyReLU(alpha=0.1), kernel_regularizer = regularizers.l2(0.01)),\n",
        "tf.keras.layers.Dense(3, activation=LeakyReLU(alpha=0.1), kernel_regularizer = regularizers.l2(0.01)),\n",
        "tf.keras.layers.Dense(3, activation=LeakyReLU(alpha=0.1), kernel_regularizer = regularizers.l2(0.01)),\n",
        "tf.keras.layers.Dense(3, activation=LeakyReLU(alpha=0.1), kernel_regularizer = regularizers.l2(0.01)),\n",
        "tf.keras.layers.Dense(3, activation=tf.nn.softmax, kernel_regularizer = regularizers.l2(0.01))\n",
        "])\n",
        "\n",
        "\n",
        "\n",
        "#DECIDING LOSS FUNCTIONS AND OPTIMIZATION ALGORITHM\n",
        "optimizer = tf.keras.optimizers.Adam(clipnorm=0.1)\n",
        "\n",
        "\n",
        "\n",
        "#FITTING ON TRAINING DATA\n",
        "\n",
        "\n",
        "full_deep_model.compile(optimizer=optimizer, loss='categorical_crossentropy', metrics=['accuracy'])\n",
        "full_deep_model.fit(X_train, Y_train, epochs=5, batch_size = 32) #TODO: Test different epochs\n",
        "score2 = full_deep_model.evaluate(X_dev, Y_dev, verbose =0, batch_size = 32)\n",
        "\n",
        "print(\"Full Deep Model: Dev Set Accuracy :\")\n",
        "print(score2[1]*100)\n",
        "\n",
        "simple_model_shallow.compile(optimizer=optimizer, loss='categorical_crossentropy', metrics=['accuracy'])\n",
        "simple_model_shallow.fit(X_train,Y_train, epochs = 5, batch_size = 32)\n",
        "score3 = simple_model_shallow.evaluate(X_dev, Y_dev, verbose = 0, batch_size = 32)\n",
        "print(\"Simple Model Shallow : Dev Set Accuracy :\")\n",
        "print(score3[1]*100)\n",
        "\n",
        "\n",
        "\n",
        "\n"
      ],
      "execution_count": 21,
      "outputs": [
        {
          "output_type": "stream",
          "text": [
            "Lat         False\n",
            "Long        False\n",
            "Depth       False\n",
            "Mag         False\n",
            "Distance    False\n",
            "Output       True\n",
            "dtype: bool\n",
            "False\n",
            "Epoch 1/3\n",
            "95000/95000 [==============================] - 8s 84us/step - loss: 0.0493 - acc: 0.0111\n",
            "Epoch 2/3\n",
            "95000/95000 [==============================] - 5s 50us/step - loss: 0.0491 - acc: 0.0029\n",
            "Epoch 3/3\n",
            "95000/95000 [==============================] - 5s 50us/step - loss: 0.0491 - acc: 0.0354\n",
            "7.651858568353645\n",
            "Epoch 1/5\n",
            "95000/95000 [==============================] - 22s 231us/step - loss: 0.1909 - acc: 0.3878\n",
            "Epoch 2/5\n",
            "95000/95000 [==============================] - 17s 183us/step - loss: 0.0491 - acc: 0.4587\n",
            "Epoch 3/5\n",
            "95000/95000 [==============================] - 17s 184us/step - loss: 0.0491 - acc: 0.4344\n",
            "Epoch 4/5\n",
            "95000/95000 [==============================] - 18s 185us/step - loss: 0.0491 - acc: 0.4544\n",
            "Epoch 5/5\n",
            "95000/95000 [==============================] - 18s 188us/step - loss: 0.0491 - acc: 0.4083\n",
            "Full Deep Model: Dev Set Accuracy :\n",
            "0.0\n",
            "Epoch 1/5\n",
            "95000/95000 [==============================] - 11s 117us/step - loss: 0.0532 - acc: 0.3891\n",
            "Epoch 2/5\n",
            "95000/95000 [==============================] - 8s 83us/step - loss: 0.0491 - acc: 0.4524\n",
            "Epoch 3/5\n",
            "95000/95000 [==============================] - 8s 83us/step - loss: 0.0491 - acc: 0.3007\n",
            "Epoch 4/5\n",
            "95000/95000 [==============================] - 8s 84us/step - loss: 0.0491 - acc: 1.0000\n",
            "Epoch 5/5\n",
            "95000/95000 [==============================] - 8s 82us/step - loss: 0.0491 - acc: 1.0000\n",
            "Simple Model Shallow : Dev Set Accuracy :\n",
            "100.0\n"
          ],
          "name": "stdout"
        },
        {
          "output_type": "error",
          "ename": "AttributeError",
          "evalue": "ignored",
          "traceback": [
            "\u001b[0;31m---------------------------------------------------------------------------\u001b[0m",
            "\u001b[0;31mAttributeError\u001b[0m                            Traceback (most recent call last)",
            "\u001b[0;32m<ipython-input-21-16a10c36f7a7>\u001b[0m in \u001b[0;36m<module>\u001b[0;34m()\u001b[0m\n\u001b[1;32m    124\u001b[0m \u001b[0;31m#FINALLY TESTING ON TEST SET\u001b[0m\u001b[0;34m\u001b[0m\u001b[0;34m\u001b[0m\u001b[0m\n\u001b[1;32m    125\u001b[0m \u001b[0;34m\u001b[0m\u001b[0m\n\u001b[0;32m--> 126\u001b[0;31m \u001b[0mfinalscore\u001b[0m\u001b[0;34m=\u001b[0m \u001b[0mmodel\u001b[0m\u001b[0;34m.\u001b[0m\u001b[0mevaluate\u001b[0m\u001b[0;34m(\u001b[0m\u001b[0mX_test\u001b[0m\u001b[0;34m,\u001b[0m \u001b[0mY_test\u001b[0m\u001b[0;34m,\u001b[0m \u001b[0mverbose\u001b[0m\u001b[0;34m=\u001b[0m\u001b[0;36m0\u001b[0m\u001b[0;34m)\u001b[0m\u001b[0;34m\u001b[0m\u001b[0m\n\u001b[0m\u001b[1;32m    127\u001b[0m \u001b[0;34m\u001b[0m\u001b[0m\n\u001b[1;32m    128\u001b[0m \u001b[0mprint\u001b[0m\u001b[0;34m(\u001b[0m\u001b[0;34m'Test Set Accuracy:    '\u001b[0m\u001b[0;34m,\u001b[0m \u001b[0mfinalscore\u001b[0m\u001b[0;34m[\u001b[0m\u001b[0;36m1\u001b[0m\u001b[0;34m]\u001b[0m\u001b[0;34m)\u001b[0m\u001b[0;34m\u001b[0m\u001b[0m\n",
            "\u001b[0;32m/usr/local/lib/python3.6/dist-packages/tensorflow/python/keras/engine/training.py\u001b[0m in \u001b[0;36mevaluate\u001b[0;34m(self, x, y, batch_size, verbose, sample_weight, steps, max_queue_size, workers, use_multiprocessing)\u001b[0m\n\u001b[1;32m   1749\u001b[0m         \u001b[0mcheck_steps\u001b[0m\u001b[0;34m=\u001b[0m\u001b[0;32mTrue\u001b[0m\u001b[0;34m,\u001b[0m\u001b[0;34m\u001b[0m\u001b[0m\n\u001b[1;32m   1750\u001b[0m         \u001b[0msteps_name\u001b[0m\u001b[0;34m=\u001b[0m\u001b[0;34m'steps'\u001b[0m\u001b[0;34m,\u001b[0m\u001b[0;34m\u001b[0m\u001b[0m\n\u001b[0;32m-> 1751\u001b[0;31m         steps=steps)\n\u001b[0m\u001b[1;32m   1752\u001b[0m \u001b[0;34m\u001b[0m\u001b[0m\n\u001b[1;32m   1753\u001b[0m     \u001b[0;32mif\u001b[0m \u001b[0mcontext\u001b[0m\u001b[0;34m.\u001b[0m\u001b[0mexecuting_eagerly\u001b[0m\u001b[0;34m(\u001b[0m\u001b[0;34m)\u001b[0m\u001b[0;34m:\u001b[0m\u001b[0;34m\u001b[0m\u001b[0m\n",
            "\u001b[0;32m/usr/local/lib/python3.6/dist-packages/tensorflow/python/keras/engine/training.py\u001b[0m in \u001b[0;36m_standardize_user_data\u001b[0;34m(self, x, y, sample_weight, class_weight, batch_size, check_steps, steps_name, steps, validation_split)\u001b[0m\n\u001b[1;32m    990\u001b[0m         \u001b[0mx\u001b[0m\u001b[0;34m,\u001b[0m \u001b[0my\u001b[0m\u001b[0;34m,\u001b[0m \u001b[0msample_weight\u001b[0m \u001b[0;34m=\u001b[0m \u001b[0mnext_element\u001b[0m\u001b[0;34m\u001b[0m\u001b[0m\n\u001b[1;32m    991\u001b[0m     x, y, sample_weights = self._standardize_weights(x, y, sample_weight,\n\u001b[0;32m--> 992\u001b[0;31m                                                      class_weight, batch_size)\n\u001b[0m\u001b[1;32m    993\u001b[0m     \u001b[0;32mreturn\u001b[0m \u001b[0mx\u001b[0m\u001b[0;34m,\u001b[0m \u001b[0my\u001b[0m\u001b[0;34m,\u001b[0m \u001b[0msample_weights\u001b[0m\u001b[0;34m\u001b[0m\u001b[0m\n\u001b[1;32m    994\u001b[0m \u001b[0;34m\u001b[0m\u001b[0m\n",
            "\u001b[0;32m/usr/local/lib/python3.6/dist-packages/tensorflow/python/keras/engine/training.py\u001b[0m in \u001b[0;36m_standardize_weights\u001b[0;34m(self, x, y, sample_weight, class_weight, batch_size)\u001b[0m\n\u001b[1;32m   1030\u001b[0m       \u001b[0;32mif\u001b[0m \u001b[0;32mnot\u001b[0m \u001b[0mself\u001b[0m\u001b[0;34m.\u001b[0m\u001b[0minputs\u001b[0m\u001b[0;34m:\u001b[0m\u001b[0;34m\u001b[0m\u001b[0m\n\u001b[1;32m   1031\u001b[0m         \u001b[0mis_build_called\u001b[0m \u001b[0;34m=\u001b[0m \u001b[0;32mTrue\u001b[0m\u001b[0;34m\u001b[0m\u001b[0m\n\u001b[0;32m-> 1032\u001b[0;31m         \u001b[0mself\u001b[0m\u001b[0;34m.\u001b[0m\u001b[0m_set_inputs\u001b[0m\u001b[0;34m(\u001b[0m\u001b[0mx\u001b[0m\u001b[0;34m)\u001b[0m\u001b[0;34m\u001b[0m\u001b[0m\n\u001b[0m\u001b[1;32m   1033\u001b[0m     \u001b[0;32melse\u001b[0m\u001b[0;34m:\u001b[0m\u001b[0;34m\u001b[0m\u001b[0m\n\u001b[1;32m   1034\u001b[0m       \u001b[0mdict_inputs\u001b[0m \u001b[0;34m=\u001b[0m \u001b[0misinstance\u001b[0m\u001b[0;34m(\u001b[0m\u001b[0mself\u001b[0m\u001b[0;34m.\u001b[0m\u001b[0minputs\u001b[0m\u001b[0;34m,\u001b[0m \u001b[0mdict\u001b[0m\u001b[0;34m)\u001b[0m\u001b[0;34m\u001b[0m\u001b[0m\n",
            "\u001b[0;32m/usr/local/lib/python3.6/dist-packages/tensorflow/python/training/checkpointable/base.py\u001b[0m in \u001b[0;36m_method_wrapper\u001b[0;34m(self, *args, **kwargs)\u001b[0m\n\u001b[1;32m    472\u001b[0m     \u001b[0mself\u001b[0m\u001b[0;34m.\u001b[0m\u001b[0m_setattr_tracking\u001b[0m \u001b[0;34m=\u001b[0m \u001b[0;32mFalse\u001b[0m  \u001b[0;31m# pylint: disable=protected-access\u001b[0m\u001b[0;34m\u001b[0m\u001b[0m\n\u001b[1;32m    473\u001b[0m     \u001b[0;32mtry\u001b[0m\u001b[0;34m:\u001b[0m\u001b[0;34m\u001b[0m\u001b[0m\n\u001b[0;32m--> 474\u001b[0;31m       \u001b[0mmethod\u001b[0m\u001b[0;34m(\u001b[0m\u001b[0mself\u001b[0m\u001b[0;34m,\u001b[0m \u001b[0;34m*\u001b[0m\u001b[0margs\u001b[0m\u001b[0;34m,\u001b[0m \u001b[0;34m**\u001b[0m\u001b[0mkwargs\u001b[0m\u001b[0;34m)\u001b[0m\u001b[0;34m\u001b[0m\u001b[0m\n\u001b[0m\u001b[1;32m    475\u001b[0m     \u001b[0;32mfinally\u001b[0m\u001b[0;34m:\u001b[0m\u001b[0;34m\u001b[0m\u001b[0m\n\u001b[1;32m    476\u001b[0m       \u001b[0mself\u001b[0m\u001b[0;34m.\u001b[0m\u001b[0m_setattr_tracking\u001b[0m \u001b[0;34m=\u001b[0m \u001b[0mprevious_value\u001b[0m  \u001b[0;31m# pylint: disable=protected-access\u001b[0m\u001b[0;34m\u001b[0m\u001b[0m\n",
            "\u001b[0;32m/usr/local/lib/python3.6/dist-packages/tensorflow/python/keras/engine/training.py\u001b[0m in \u001b[0;36m_set_inputs\u001b[0;34m(self, inputs, training)\u001b[0m\n\u001b[1;32m   1240\u001b[0m       \u001b[0;32melse\u001b[0m\u001b[0;34m:\u001b[0m\u001b[0;34m\u001b[0m\u001b[0m\n\u001b[1;32m   1241\u001b[0m         \u001b[0minput_shape\u001b[0m \u001b[0;34m=\u001b[0m \u001b[0;34m(\u001b[0m\u001b[0;32mNone\u001b[0m\u001b[0;34m,\u001b[0m\u001b[0;34m)\u001b[0m \u001b[0;34m+\u001b[0m \u001b[0minputs\u001b[0m\u001b[0;34m.\u001b[0m\u001b[0mshape\u001b[0m\u001b[0;34m[\u001b[0m\u001b[0;36m1\u001b[0m\u001b[0;34m:\u001b[0m\u001b[0;34m]\u001b[0m\u001b[0;34m\u001b[0m\u001b[0m\n\u001b[0;32m-> 1242\u001b[0;31m         \u001b[0mself\u001b[0m\u001b[0;34m.\u001b[0m\u001b[0mbuild\u001b[0m\u001b[0;34m(\u001b[0m\u001b[0minput_shape\u001b[0m\u001b[0;34m=\u001b[0m\u001b[0minput_shape\u001b[0m\u001b[0;34m)\u001b[0m\u001b[0;34m\u001b[0m\u001b[0m\n\u001b[0m\u001b[1;32m   1243\u001b[0m     \u001b[0;32mif\u001b[0m \u001b[0mcontext\u001b[0m\u001b[0;34m.\u001b[0m\u001b[0mexecuting_eagerly\u001b[0m\u001b[0;34m(\u001b[0m\u001b[0;34m)\u001b[0m\u001b[0;34m:\u001b[0m\u001b[0;34m\u001b[0m\u001b[0m\n\u001b[1;32m   1244\u001b[0m       \u001b[0mself\u001b[0m\u001b[0;34m.\u001b[0m\u001b[0m_eager_set_inputs\u001b[0m\u001b[0;34m(\u001b[0m\u001b[0minputs\u001b[0m\u001b[0;34m)\u001b[0m\u001b[0;34m\u001b[0m\u001b[0m\n",
            "\u001b[0;32m/usr/local/lib/python3.6/dist-packages/tensorflow/python/keras/engine/sequential.py\u001b[0m in \u001b[0;36mbuild\u001b[0;34m(self, input_shape)\u001b[0m\n\u001b[1;32m    219\u001b[0m       \u001b[0;32mfor\u001b[0m \u001b[0mlayer\u001b[0m \u001b[0;32min\u001b[0m \u001b[0mself\u001b[0m\u001b[0;34m.\u001b[0m\u001b[0mlayers\u001b[0m\u001b[0;34m:\u001b[0m\u001b[0;34m\u001b[0m\u001b[0m\n\u001b[1;32m    220\u001b[0m         \u001b[0;32mif\u001b[0m \u001b[0;32mnot\u001b[0m \u001b[0mlayer\u001b[0m\u001b[0;34m.\u001b[0m\u001b[0mbuilt\u001b[0m\u001b[0;34m:\u001b[0m\u001b[0;34m\u001b[0m\u001b[0m\n\u001b[0;32m--> 221\u001b[0;31m           \u001b[0;32mwith\u001b[0m \u001b[0mops\u001b[0m\u001b[0;34m.\u001b[0m\u001b[0mname_scope\u001b[0m\u001b[0;34m(\u001b[0m\u001b[0mlayer\u001b[0m\u001b[0;34m.\u001b[0m\u001b[0m_name_scope\u001b[0m\u001b[0;34m(\u001b[0m\u001b[0;34m)\u001b[0m\u001b[0;34m)\u001b[0m\u001b[0;34m:\u001b[0m\u001b[0;34m\u001b[0m\u001b[0m\n\u001b[0m\u001b[1;32m    222\u001b[0m             \u001b[0mlayer\u001b[0m\u001b[0;34m.\u001b[0m\u001b[0mbuild\u001b[0m\u001b[0;34m(\u001b[0m\u001b[0mshape\u001b[0m\u001b[0;34m)\u001b[0m\u001b[0;34m\u001b[0m\u001b[0m\n\u001b[1;32m    223\u001b[0m           \u001b[0mlayer\u001b[0m\u001b[0;34m.\u001b[0m\u001b[0mbuilt\u001b[0m \u001b[0;34m=\u001b[0m \u001b[0;32mTrue\u001b[0m\u001b[0;34m\u001b[0m\u001b[0m\n",
            "\u001b[0;32m/usr/local/lib/python3.6/dist-packages/tensorflow/python/layers/base.py\u001b[0m in \u001b[0;36m_name_scope\u001b[0;34m(self)\u001b[0m\n\u001b[1;32m    149\u001b[0m   \u001b[0;32mdef\u001b[0m \u001b[0m_name_scope\u001b[0m\u001b[0;34m(\u001b[0m\u001b[0mself\u001b[0m\u001b[0;34m)\u001b[0m\u001b[0;34m:\u001b[0m\u001b[0;34m\u001b[0m\u001b[0m\n\u001b[1;32m    150\u001b[0m     \u001b[0;34m\"\"\"Determines op naming for the Layer.\"\"\"\u001b[0m\u001b[0;34m\u001b[0m\u001b[0m\n\u001b[0;32m--> 151\u001b[0;31m     \u001b[0;32mreturn\u001b[0m \u001b[0mself\u001b[0m\u001b[0;34m.\u001b[0m\u001b[0m_current_scope\u001b[0m\u001b[0;34m.\u001b[0m\u001b[0moriginal_name_scope\u001b[0m\u001b[0;34m\u001b[0m\u001b[0m\n\u001b[0m\u001b[1;32m    152\u001b[0m \u001b[0;34m\u001b[0m\u001b[0m\n\u001b[1;32m    153\u001b[0m   \u001b[0;32mdef\u001b[0m \u001b[0m_set_scope\u001b[0m\u001b[0;34m(\u001b[0m\u001b[0mself\u001b[0m\u001b[0;34m,\u001b[0m \u001b[0mscope\u001b[0m\u001b[0;34m=\u001b[0m\u001b[0;32mNone\u001b[0m\u001b[0;34m)\u001b[0m\u001b[0;34m:\u001b[0m\u001b[0;34m\u001b[0m\u001b[0m\n",
            "\u001b[0;31mAttributeError\u001b[0m: 'NoneType' object has no attribute 'original_name_scope'"
          ]
        }
      ]
    },
    {
      "metadata": {
        "id": "Wxef3IOvBxbI",
        "colab_type": "code",
        "colab": {}
      },
      "cell_type": "code",
      "source": [
        "finalscore = simple_model_shallow.evaluate(X_test, Y_test, verbose=0)"
      ],
      "execution_count": 0,
      "outputs": []
    },
    {
      "metadata": {
        "id": "lq74aIs3wQvs",
        "colab_type": "code",
        "colab": {
          "base_uri": "https://localhost:8080/",
          "height": 34
        },
        "outputId": "c44c331c-2492-4707-e20f-f8c0560cb3a5"
      },
      "cell_type": "code",
      "source": [
        "print (finalscore[1])"
      ],
      "execution_count": 23,
      "outputs": [
        {
          "output_type": "stream",
          "text": [
            "1.0\n"
          ],
          "name": "stdout"
        }
      ]
    },
    {
      "metadata": {
        "id": "G8V2yg0YwT_d",
        "colab_type": "code",
        "colab": {}
      },
      "cell_type": "code",
      "source": [
        ""
      ],
      "execution_count": 0,
      "outputs": []
    }
  ]
}